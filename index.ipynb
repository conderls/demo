{
 "cells": [
  {
   "cell_type": "markdown",
   "metadata": {},
   "source": [
    "# mini-tutorials"
   ]
  },
  {
   "cell_type": "markdown",
   "metadata": {},
   "source": [
    "## python\n",
    "- notebook: jupyter-lab 3.0+  (jupyter-notebook)\n",
    "- dataframe + parquet: [dataframe demo](./demo/dataframe.ipynb)[![Binder](https://mybinder.org/badge_logo.svg)](https://mybinder.org/v2/gh/conderls/demo/master?urlpath=lab)"
   ]
  },
  {
   "cell_type": "markdown",
   "metadata": {
    "execution": {
     "iopub.execute_input": "2021-02-03T05:54:21.972139Z",
     "iopub.status.busy": "2021-02-03T05:54:21.953781Z",
     "iopub.status.idle": "2021-02-03T05:54:22.066120Z",
     "shell.execute_reply": "2021-02-03T05:54:22.063008Z",
     "shell.execute_reply.started": "2021-02-03T05:54:21.959588Z"
    }
   },
   "source": [
    "## scala + spark\n",
    "- notebook: [polynote](https://polynote.org/), [installation]()\n",
    "- spark-shell\n",
    "\n",
    "```bash\n",
    "spark-shell \\\n",
    "  --queue='queue_name' \\\n",
    "  --master yarn-client \\\n",
    "  --name \"playground\" \\\n",
    "  --conf spark.sql.shuffle.partitions=50 \\\n",
    "  --conf spark.default.parallelism=50 \\\n",
    "  --conf spark.executor.instances=5 \\\n",
    "  --conf spark.executor.cores=2 \\\n",
    "  --conf spark.driver.extraJavaOptions=-XX:+UseG1GC \\\n",
    "  --conf spark.executor.extraJavaOptions=-XX:+UseG1GC \\\n",
    "  --conf spark.executor.extraJavaOptions=-XX:-UseGCOverheadLimit \\\n",
    "  --conf spark.driver.memory=3g \\\n",
    "  --conf spark.executor.memory=2g \\\n",
    "  --conf spark.storage.memoryFraction=0.3 \\\n",
    "  --conf spark.driver.extraLibraryPath=/usr/lib/hadoop/lzo/lib:/usr/lib/hadoop/lib/native \\\n",
    "  --conf spark.executor.extraLibraryPath=/usr/lib/hadoop/lzo/lib:/usr/lib/hadoop/lib/native \\\n",
    "  --files hdfs:///etc/hive-site.xml \\\n",
    "  --jars hdfs:///etc/hive-auxlib/*jar\n",
    "  \n",
    "############################### TIPS #######################\n",
    "# 1. auto-download dependence\n",
    "#   --packages com.databricks:spark-csv_2.11:1.5.0\n",
    "# 2. add local/remote jars\n",
    "#   --jars /Projects/new-phrase-detector/target/scala-2.11/new-phrase-detector-assembly-1.0.jar\n",
    "#\n",
    "########### Exceptions\n",
    "# 1. MetaException: org.openx.data.jsonserde.JsonSerDe not found\n",
    "#   --jars hdfs:///etc/hive-auxlib/json-serde-1.3.8-jar-with-dependencies.jar\n",
    "# 2. native-lzo library not available\n",
    "#   --conf spark.driver.extraLibraryPath=/usr/lib/hadoop/lzo/lib:/usr/lib/hadoop/lib/native \\\n",
    "#   --conf spark.executor.extraLibraryPath=/usr/lib/hadoop/lzo/lib:/usr/lib/hadoop/lib/native\n",
    "############################################################\n",
    "```"
   ]
  },
  {
   "cell_type": "markdown",
   "metadata": {},
   "source": [
    "### Scala\n",
    "* scala -cp zai-offline-all-assembly.jar\n",
    "  `:require zstd-jni-1.4.4-4.jar`\n",
    "* [Scala Basic](demo/scala_basic.ipynb)"
   ]
  },
  {
   "cell_type": "markdown",
   "metadata": {},
   "source": [
    "## Kafka"
   ]
  },
  {
   "cell_type": "markdown",
   "metadata": {},
   "source": [
    "- kafkacat + jq\n",
    "- jq: \n",
    "```bash\n",
    "echo '{\"id\":{\"globalId\":\"-2202461616060614224\",\"originalId\":\"224\"},\"docType\":\"AdArticle\",\"docStatus\":{\"time\":\"1495211383\",\"status\":\"Normal\"},\"time\":{\"created\":\"1490886193\",\"publish\":\"1495211383\"},\"relatedInfo\":{\"rootId\":{\"globalId\":\"-2202461616060614224\",\"originalId\":\"224\"}}}' | jq .\n",
    "```\n",
    "\n",
    "output:\n",
    "```json\n",
    "{\n",
    "  \"id\": {\n",
    "    \"globalId\": \"-2202461616060614224\",\n",
    "    \"originalId\": \"224\"\n",
    "  },\n",
    "  \"docType\": \"Ad\",\n",
    "  \"docStatus\": {\n",
    "    \"time\": \"1495211383\",\n",
    "    \"status\": \"Normal\"\n",
    "  },\n",
    "  \"time\": {\n",
    "    \"created\": \"1490886193\",\n",
    "    \"publish\": \"1495211383\"\n",
    "  },\n",
    "  \"relatedInfo\": {\n",
    "    \"rootId\": {\n",
    "      \"globalId\": \"-2202461616060614224\",\n",
    "      \"originalId\": \"224\"\n",
    "    }\n",
    "  }\n",
    "}\n",
    "```"
   ]
  },
  {
   "cell_type": "code",
   "execution_count": null,
   "metadata": {},
   "outputs": [],
   "source": []
  }
 ],
 "metadata": {
  "kernelspec": {
   "display_name": "Python 3",
   "language": "python",
   "name": "python3"
  },
  "language_info": {
   "codemirror_mode": {
    "name": "ipython",
    "version": 3
   },
   "file_extension": ".py",
   "mimetype": "text/x-python",
   "name": "python",
   "nbconvert_exporter": "python",
   "pygments_lexer": "ipython3",
   "version": "3.7.4"
  }
 },
 "nbformat": 4,
 "nbformat_minor": 4
}
