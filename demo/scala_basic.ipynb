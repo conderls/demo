{
 "cells": [
  {
   "cell_type": "markdown",
   "id": "aging-material",
   "metadata": {},
   "source": [
    "<p float=\"left\">\n",
    "  <img src=\"img/ammonite.jpg\" alt=\"Ammonite\" style=\"width:100px;\"/>\n",
    "  <img src=\"img/almond.svg\" alt=\"Almond\" style=\"width:100px;\"/> \n",
    "</p>"
   ]
  },
  {
   "cell_type": "markdown",
   "id": "dental-installation",
   "metadata": {
    "execution": {
     "iopub.execute_input": "2021-02-03T05:57:06.262465Z",
     "iopub.status.busy": "2021-02-03T05:57:06.262096Z",
     "iopub.status.idle": "2021-02-03T05:57:06.271605Z",
     "shell.execute_reply": "2021-02-03T05:57:06.269862Z",
     "shell.execute_reply.started": "2021-02-03T05:57:06.262423Z"
    }
   },
   "source": [
    "# Scala In Jupyter(almond)\n",
    "\n",
    "> [Ammonite](http://ammonite.io) lets you use the Scala language for scripting purposes: \n",
    "> in the REPL, as scripts, as a library to use in existing projects,\n",
    "> or as a standalone systems shell. \n",
    "\n",
    "> [Ammonite](http://ammonite.io) is a modern and user-friendly Scala shell. \n",
    "> [Almond](https://almond.sh) wraps it in a Jupyter kernel, \n",
    "> giving you all its features and niceties, including customizable pretty-printing, \n",
    "> magic imports, advanced dependency handling, its API, right from Jupyter.\n",
    "\n",
    "Ammonite <==> Scala ---> IPython <==> Python"
   ]
  },
  {
   "cell_type": "markdown",
   "id": "colored-witch",
   "metadata": {},
   "source": [
    "# quick start"
   ]
  },
  {
   "cell_type": "markdown",
   "id": "planned-adventure",
   "metadata": {
    "execution": {
     "iopub.execute_input": "2021-02-03T09:52:45.318830Z",
     "iopub.status.busy": "2021-02-03T09:52:45.318418Z",
     "iopub.status.idle": "2021-02-03T09:52:45.328151Z",
     "shell.execute_reply": "2021-02-03T09:52:45.327299Z",
     "shell.execute_reply.started": "2021-02-03T09:52:45.318784Z"
    }
   },
   "source": [
    "## Installation"
   ]
  },
  {
   "cell_type": "markdown",
   "id": "proud-connecticut",
   "metadata": {},
   "source": [
    "### [Ammonite](http://ammonite.io) (not required!)\n",
    "\n",
    "```bash\n",
    "# official installation: Downloading ...\n",
    "$ sudo sh -c '(echo \"#!/usr/bin/env sh\" && curl -L https://github.com/lihaoyi/Ammonite/releases/download/2.3.8/2.13-2.3.8) > /usr/local/bin/amm && chmod +x /usr/local/bin/amm' && amm\n",
    "\n",
    "# with proxy, ETA 20s: \n",
    "$ wget -O amm https://github.com/lihaoyi/Ammonite/releases/download/2.3.8/2.13-2.3.8 \n",
    "chmod a+rx amm\n",
    "\n",
    "# run amm\n",
    "$ ./amm\n",
    "Loading...\n",
    "Welcome to the Ammonite Repl 2.3.8 (Scala 2.13.3 Java 1.8.0_191)\n",
    "@ println(\"HELLO WORLD!\")\n",
    "HELLO WORLD!\n",
    "```\n"
   ]
  },
  {
   "cell_type": "markdown",
   "id": "weekly-equity",
   "metadata": {},
   "source": [
    "### [Almond](https://almond.sh)\n",
    "WARN: Not all Almond and Scala versions combinations are available. \n",
    "See the possible combinations [here](https://almond.sh/docs/install-versions)\n",
    "\n",
    "```bash\n",
    "# with proxy ETA 2s:\n",
    "$ wget -O coursier https://git.io/coursier-cli\n",
    "$ chmod +x coursier\n",
    "\n",
    "# install jupyter kernel: Downloading ....\n",
    "$ ./coursier launch --fork almond -- --help # for help\n",
    "$ ./coursier launch --fork almond -- --install\n",
    "\n",
    "# or specify versions\n",
    "$ ./coursier launch --fork almond:0.6.0 --scala 2.11.12 -- --install --id scala211 --display-name \"Scala (2.11)\"\n",
    "$ ./coursier launch --fork almond:0.10.9 --scala 2.12.10 -- --install --id scala212 --display-name \"Scala (2.12)\"\n",
    "\n",
    "```"
   ]
  },
  {
   "cell_type": "markdown",
   "id": "liberal-andorra",
   "metadata": {},
   "source": [
    "### JupyterLab\n",
    "```bash\n",
    "# conda py3\n",
    "$ pip install --upgrade jupyterlab, numpy, pandas # jupyterlab > 3.0\n",
    "\n",
    "# check & remove kernel\n",
    "$ jupyter kernelspec list\n",
    "$ jupyter kernelspec remove scala\n",
    "```"
   ]
  },
  {
   "cell_type": "markdown",
   "id": "challenging-christian",
   "metadata": {},
   "source": [
    "# Examples\n",
    "- [Almond Examples](https://github.com/almond-sh/examples/) [![Binder](https://mybinder.org/badge_logo.svg)](https://mybinder.org/v2/gh/almond-sh/examples/master?urlpath=lab%2Ftree%2Fnotebooks%2Findex.ipynb)\n",
    "- [Chisel Bootcamp](https://github.com/freechipsproject/chisel-bootcamp) [![Binder](https://mybinder.org/badge_logo.svg)](https://mybinder.org/v2/gh/freechipsproject/chisel-bootcamp/master)"
   ]
  },
  {
   "cell_type": "code",
   "execution_count": null,
   "id": "colored-disco",
   "metadata": {},
   "outputs": [],
   "source": []
  }
 ],
 "metadata": {
  "kernelspec": {
   "display_name": "Python 3",
   "language": "python",
   "name": "python3"
  },
  "language_info": {
   "codemirror_mode": {
    "name": "ipython",
    "version": 3
   },
   "file_extension": ".py",
   "mimetype": "text/x-python",
   "name": "python",
   "nbconvert_exporter": "python",
   "pygments_lexer": "ipython3",
   "version": "3.7.4"
  }
 },
 "nbformat": 4,
 "nbformat_minor": 5
}
